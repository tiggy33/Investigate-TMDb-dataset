{
 "cells": [
  {
   "cell_type": "markdown",
   "metadata": {},
   "source": [
    "# Project: Investigate a Dataset (TMDB)\n",
    "\n",
    "## Table of Contents\n",
    "<ul>\n",
    "<li><a href=\"#intro\">Introduction</a></li>\n",
    "<li><a href=\"#wrangling\">Data Wrangling</a></li>\n",
    "<li><a href=\"#eda\">Exploratory Data Analysis</a></li>\n",
    "<li><a href=\"#conclusions\">Conclusions</a></li>\n",
    "</ul>"
   ]
  },
  {
   "cell_type": "markdown",
   "metadata": {},
   "source": [
    "<a id='intro'></a>\n",
    "## Introduction\n",
    "\n",
    ">This data set contains information about 10,000 movies collected from The Movie Database (TMDb), including user ratings and revenue.\n",
    "> The questions that is explored are:\n",
    "1. What are the most popular genres over the years\n",
    "2. What are the most popular movies based on popularity rating every year?"
   ]
  },
  {
   "cell_type": "code",
   "execution_count": 38,
   "metadata": {},
   "outputs": [],
   "source": [
    "%matplotlib inline\n",
    "\n",
    "import numpy as np\n",
    "import pandas as pd\n",
    "#import MySQLdb as mysql\n",
    "import matplotlib.pyplot as plt\n",
    "from pandas.tools.plotting import table\n",
    "from IPython.display import display, HTML\n",
    "import IPython.core.display as di"
   ]
  },
  {
   "cell_type": "markdown",
   "metadata": {},
   "source": [
    "<a id='wrangling'></a>\n",
    "## Data Wrangling\n",
    "\n",
    "> **Tip**: In this section of the report, you will load in the data, check for cleanliness, and then trim and clean your dataset for analysis. Make sure that you document your steps carefully and justify your cleaning decisions.\n",
    "\n",
    "### General Properties"
   ]
  },
  {
   "cell_type": "code",
   "execution_count": 39,
   "metadata": {
    "scrolled": true
   },
   "outputs": [
    {
     "name": "stdout",
     "output_type": "stream",
     "text": [
      "       id    imdb_id  popularity     budget     revenue  \\\n",
      "0  135397  tt0369610   32.985763  150000000  1513528810   \n",
      "1   76341  tt1392190   28.419936  150000000   378436354   \n",
      "2  262500  tt2908446   13.112507  110000000   295238201   \n",
      "3  140607  tt2488496   11.173104  200000000  2068178225   \n",
      "4  168259  tt2820852    9.335014  190000000  1506249360   \n",
      "\n",
      "                 original_title  \\\n",
      "0                Jurassic World   \n",
      "1            Mad Max: Fury Road   \n",
      "2                     Insurgent   \n",
      "3  Star Wars: The Force Awakens   \n",
      "4                     Furious 7   \n",
      "\n",
      "                                                cast  \\\n",
      "0  Chris Pratt|Bryce Dallas Howard|Irrfan Khan|Vi...   \n",
      "1  Tom Hardy|Charlize Theron|Hugh Keays-Byrne|Nic...   \n",
      "2  Shailene Woodley|Theo James|Kate Winslet|Ansel...   \n",
      "3  Harrison Ford|Mark Hamill|Carrie Fisher|Adam D...   \n",
      "4  Vin Diesel|Paul Walker|Jason Statham|Michelle ...   \n",
      "\n",
      "                                            homepage          director  \\\n",
      "0                      http://www.jurassicworld.com/   Colin Trevorrow   \n",
      "1                        http://www.madmaxmovie.com/     George Miller   \n",
      "2     http://www.thedivergentseries.movie/#insurgent  Robert Schwentke   \n",
      "3  http://www.starwars.com/films/star-wars-episod...       J.J. Abrams   \n",
      "4                           http://www.furious7.com/         James Wan   \n",
      "\n",
      "                         tagline      ...       \\\n",
      "0              The park is open.      ...        \n",
      "1             What a Lovely Day.      ...        \n",
      "2     One Choice Can Destroy You      ...        \n",
      "3  Every generation has a story.      ...        \n",
      "4            Vengeance Hits Home      ...        \n",
      "\n",
      "                                            overview runtime  \\\n",
      "0  Twenty-two years after the events of Jurassic ...     124   \n",
      "1  An apocalyptic story set in the furthest reach...     120   \n",
      "2  Beatrice Prior must confront her inner demons ...     119   \n",
      "3  Thirty years after defeating the Galactic Empi...     136   \n",
      "4  Deckard Shaw seeks revenge against Dominic Tor...     137   \n",
      "\n",
      "                                      genres  \\\n",
      "0  Action|Adventure|Science Fiction|Thriller   \n",
      "1  Action|Adventure|Science Fiction|Thriller   \n",
      "2         Adventure|Science Fiction|Thriller   \n",
      "3   Action|Adventure|Science Fiction|Fantasy   \n",
      "4                      Action|Crime|Thriller   \n",
      "\n",
      "                                production_companies release_date vote_count  \\\n",
      "0  Universal Studios|Amblin Entertainment|Legenda...       6/9/15       5562   \n",
      "1  Village Roadshow Pictures|Kennedy Miller Produ...      5/13/15       6185   \n",
      "2  Summit Entertainment|Mandeville Films|Red Wago...      3/18/15       2480   \n",
      "3          Lucasfilm|Truenorth Productions|Bad Robot     12/15/15       5292   \n",
      "4  Universal Pictures|Original Film|Media Rights ...       4/1/15       2947   \n",
      "\n",
      "   vote_average  release_year    budget_adj   revenue_adj  \n",
      "0           6.5          2015  1.379999e+08  1.392446e+09  \n",
      "1           7.1          2015  1.379999e+08  3.481613e+08  \n",
      "2           6.3          2015  1.012000e+08  2.716190e+08  \n",
      "3           7.5          2015  1.839999e+08  1.902723e+09  \n",
      "4           7.3          2015  1.747999e+08  1.385749e+09  \n",
      "\n",
      "[5 rows x 21 columns]\n",
      "<class 'pandas.core.frame.DataFrame'>\n",
      "RangeIndex: 10866 entries, 0 to 10865\n",
      "Data columns (total 21 columns):\n",
      "id                      10866 non-null int64\n",
      "imdb_id                 10856 non-null object\n",
      "popularity              10866 non-null float64\n",
      "budget                  10866 non-null int64\n",
      "revenue                 10866 non-null int64\n",
      "original_title          10866 non-null object\n",
      "cast                    10790 non-null object\n",
      "homepage                2936 non-null object\n",
      "director                10822 non-null object\n",
      "tagline                 8042 non-null object\n",
      "keywords                9373 non-null object\n",
      "overview                10862 non-null object\n",
      "runtime                 10866 non-null int64\n",
      "genres                  10843 non-null object\n",
      "production_companies    9836 non-null object\n",
      "release_date            10866 non-null object\n",
      "vote_count              10866 non-null int64\n",
      "vote_average            10866 non-null float64\n",
      "release_year            10866 non-null int64\n",
      "budget_adj              10866 non-null float64\n",
      "revenue_adj             10866 non-null float64\n",
      "dtypes: float64(4), int64(6), object(11)\n",
      "memory usage: 1.7+ MB\n"
     ]
    }
   ],
   "source": [
    "def read(filename):\n",
    "    df = pd.read_csv(filename)\n",
    "\n",
    "    return df\n",
    "\n",
    "tmdb_df = read(\"tmdb-movies.csv\")\n",
    "print (tmdb_df.head())\n",
    "tmdb_df.info()\n"
   ]
  },
  {
   "cell_type": "markdown",
   "metadata": {},
   "source": [
    "### Data Cleaning \n",
    "#### check if there is duplicate"
   ]
  },
  {
   "cell_type": "code",
   "execution_count": 40,
   "metadata": {},
   "outputs": [
    {
     "name": "stdout",
     "output_type": "stream",
     "text": [
      "1\n"
     ]
    }
   ],
   "source": [
    "print (sum(tmdb_df.duplicated()))"
   ]
  },
  {
   "cell_type": "markdown",
   "metadata": {},
   "source": [
    "#### Remve dulipcates"
   ]
  },
  {
   "cell_type": "code",
   "execution_count": 41,
   "metadata": {},
   "outputs": [],
   "source": [
    "tmdb_df.drop_duplicates(inplace=True)"
   ]
  },
  {
   "cell_type": "markdown",
   "metadata": {},
   "source": [
    "#### clean up the columns that is not interesting for this analysis"
   ]
  },
  {
   "cell_type": "code",
   "execution_count": 42,
   "metadata": {},
   "outputs": [
    {
     "data": {
      "text/html": [
       "<div>\n",
       "<style>\n",
       "    .dataframe thead tr:only-child th {\n",
       "        text-align: right;\n",
       "    }\n",
       "\n",
       "    .dataframe thead th {\n",
       "        text-align: left;\n",
       "    }\n",
       "\n",
       "    .dataframe tbody tr th {\n",
       "        vertical-align: top;\n",
       "    }\n",
       "</style>\n",
       "<table border=\"1\" class=\"dataframe\">\n",
       "  <thead>\n",
       "    <tr style=\"text-align: right;\">\n",
       "      <th></th>\n",
       "      <th>id</th>\n",
       "      <th>original_title</th>\n",
       "      <th>release_year</th>\n",
       "      <th>cast</th>\n",
       "      <th>director</th>\n",
       "      <th>genres</th>\n",
       "      <th>popularity</th>\n",
       "      <th>budget_adj</th>\n",
       "      <th>revenue_adj</th>\n",
       "    </tr>\n",
       "  </thead>\n",
       "  <tbody>\n",
       "    <tr>\n",
       "      <th>0</th>\n",
       "      <td>135397</td>\n",
       "      <td>Jurassic World</td>\n",
       "      <td>2015</td>\n",
       "      <td>Chris Pratt|Bryce Dallas Howard|Irrfan Khan|Vi...</td>\n",
       "      <td>Colin Trevorrow</td>\n",
       "      <td>Action|Adventure|Science Fiction|Thriller</td>\n",
       "      <td>32.985763</td>\n",
       "      <td>1.379999e+08</td>\n",
       "      <td>1.392446e+09</td>\n",
       "    </tr>\n",
       "    <tr>\n",
       "      <th>1</th>\n",
       "      <td>76341</td>\n",
       "      <td>Mad Max: Fury Road</td>\n",
       "      <td>2015</td>\n",
       "      <td>Tom Hardy|Charlize Theron|Hugh Keays-Byrne|Nic...</td>\n",
       "      <td>George Miller</td>\n",
       "      <td>Action|Adventure|Science Fiction|Thriller</td>\n",
       "      <td>28.419936</td>\n",
       "      <td>1.379999e+08</td>\n",
       "      <td>3.481613e+08</td>\n",
       "    </tr>\n",
       "    <tr>\n",
       "      <th>2</th>\n",
       "      <td>262500</td>\n",
       "      <td>Insurgent</td>\n",
       "      <td>2015</td>\n",
       "      <td>Shailene Woodley|Theo James|Kate Winslet|Ansel...</td>\n",
       "      <td>Robert Schwentke</td>\n",
       "      <td>Adventure|Science Fiction|Thriller</td>\n",
       "      <td>13.112507</td>\n",
       "      <td>1.012000e+08</td>\n",
       "      <td>2.716190e+08</td>\n",
       "    </tr>\n",
       "    <tr>\n",
       "      <th>3</th>\n",
       "      <td>140607</td>\n",
       "      <td>Star Wars: The Force Awakens</td>\n",
       "      <td>2015</td>\n",
       "      <td>Harrison Ford|Mark Hamill|Carrie Fisher|Adam D...</td>\n",
       "      <td>J.J. Abrams</td>\n",
       "      <td>Action|Adventure|Science Fiction|Fantasy</td>\n",
       "      <td>11.173104</td>\n",
       "      <td>1.839999e+08</td>\n",
       "      <td>1.902723e+09</td>\n",
       "    </tr>\n",
       "    <tr>\n",
       "      <th>4</th>\n",
       "      <td>168259</td>\n",
       "      <td>Furious 7</td>\n",
       "      <td>2015</td>\n",
       "      <td>Vin Diesel|Paul Walker|Jason Statham|Michelle ...</td>\n",
       "      <td>James Wan</td>\n",
       "      <td>Action|Crime|Thriller</td>\n",
       "      <td>9.335014</td>\n",
       "      <td>1.747999e+08</td>\n",
       "      <td>1.385749e+09</td>\n",
       "    </tr>\n",
       "  </tbody>\n",
       "</table>\n",
       "</div>"
      ],
      "text/plain": [
       "       id                original_title  release_year  \\\n",
       "0  135397                Jurassic World          2015   \n",
       "1   76341            Mad Max: Fury Road          2015   \n",
       "2  262500                     Insurgent          2015   \n",
       "3  140607  Star Wars: The Force Awakens          2015   \n",
       "4  168259                     Furious 7          2015   \n",
       "\n",
       "                                                cast          director  \\\n",
       "0  Chris Pratt|Bryce Dallas Howard|Irrfan Khan|Vi...   Colin Trevorrow   \n",
       "1  Tom Hardy|Charlize Theron|Hugh Keays-Byrne|Nic...     George Miller   \n",
       "2  Shailene Woodley|Theo James|Kate Winslet|Ansel...  Robert Schwentke   \n",
       "3  Harrison Ford|Mark Hamill|Carrie Fisher|Adam D...       J.J. Abrams   \n",
       "4  Vin Diesel|Paul Walker|Jason Statham|Michelle ...         James Wan   \n",
       "\n",
       "                                      genres  popularity    budget_adj  \\\n",
       "0  Action|Adventure|Science Fiction|Thriller   32.985763  1.379999e+08   \n",
       "1  Action|Adventure|Science Fiction|Thriller   28.419936  1.379999e+08   \n",
       "2         Adventure|Science Fiction|Thriller   13.112507  1.012000e+08   \n",
       "3   Action|Adventure|Science Fiction|Fantasy   11.173104  1.839999e+08   \n",
       "4                      Action|Crime|Thriller    9.335014  1.747999e+08   \n",
       "\n",
       "    revenue_adj  \n",
       "0  1.392446e+09  \n",
       "1  3.481613e+08  \n",
       "2  2.716190e+08  \n",
       "3  1.902723e+09  \n",
       "4  1.385749e+09  "
      ]
     },
     "execution_count": 42,
     "metadata": {},
     "output_type": "execute_result"
    }
   ],
   "source": [
    "tmdb_df = tmdb_df[['id','original_title','release_year','cast','director','genres','popularity','budget_adj','revenue_adj']]\n",
    "tmdb_df.head()"
   ]
  },
  {
   "cell_type": "markdown",
   "metadata": {},
   "source": [
    "#### check null values"
   ]
  },
  {
   "cell_type": "code",
   "execution_count": 43,
   "metadata": {},
   "outputs": [
    {
     "name": "stdout",
     "output_type": "stream",
     "text": [
      "id                 0\n",
      "original_title     0\n",
      "release_year       0\n",
      "cast              76\n",
      "director          44\n",
      "genres            23\n",
      "popularity         0\n",
      "budget_adj         0\n",
      "revenue_adj        0\n",
      "dtype: int64\n",
      "\n",
      "total rows: \n"
     ]
    },
    {
     "data": {
      "text/plain": [
       "10865"
      ]
     },
     "execution_count": 43,
     "metadata": {},
     "output_type": "execute_result"
    }
   ],
   "source": [
    "print (tmdb_df.isnull().sum())\n",
    "print ('\\ntotal rows: ')\n",
    "len(tmdb_df.index)"
   ]
  },
  {
   "cell_type": "markdown",
   "metadata": {},
   "source": [
    "#### drop movies which have null values in cast or director column"
   ]
  },
  {
   "cell_type": "code",
   "execution_count": 44,
   "metadata": {},
   "outputs": [
    {
     "name": "stdout",
     "output_type": "stream",
     "text": [
      "id                0\n",
      "original_title    0\n",
      "release_year      0\n",
      "cast              0\n",
      "director          0\n",
      "genres            0\n",
      "popularity        0\n",
      "budget_adj        0\n",
      "revenue_adj       0\n",
      "dtype: int64\n",
      "\n",
      "total rows: \n"
     ]
    },
    {
     "data": {
      "text/plain": [
       "10731"
      ]
     },
     "execution_count": 44,
     "metadata": {},
     "output_type": "execute_result"
    }
   ],
   "source": [
    "tmdb_df.dropna(inplace=True)\n",
    "print (tmdb_df.isnull().sum())\n",
    "\n",
    "print ('\\ntotal rows: ')\n",
    "len(tmdb_df.index)"
   ]
  },
  {
   "cell_type": "markdown",
   "metadata": {},
   "source": [
    "#### delete those movies which have '0' value in their budget_adj or revenue_adj"
   ]
  },
  {
   "cell_type": "code",
   "execution_count": 45,
   "metadata": {},
   "outputs": [
    {
     "data": {
      "text/html": [
       "<div>\n",
       "<style>\n",
       "    .dataframe thead tr:only-child th {\n",
       "        text-align: right;\n",
       "    }\n",
       "\n",
       "    .dataframe thead th {\n",
       "        text-align: left;\n",
       "    }\n",
       "\n",
       "    .dataframe tbody tr th {\n",
       "        vertical-align: top;\n",
       "    }\n",
       "</style>\n",
       "<table border=\"1\" class=\"dataframe\">\n",
       "  <thead>\n",
       "    <tr style=\"text-align: right;\">\n",
       "      <th></th>\n",
       "      <th>id</th>\n",
       "      <th>original_title</th>\n",
       "      <th>release_year</th>\n",
       "      <th>cast</th>\n",
       "      <th>director</th>\n",
       "      <th>genres</th>\n",
       "      <th>popularity</th>\n",
       "      <th>budget_adj</th>\n",
       "      <th>revenue_adj</th>\n",
       "    </tr>\n",
       "  </thead>\n",
       "  <tbody>\n",
       "    <tr>\n",
       "      <th>0</th>\n",
       "      <td>135397</td>\n",
       "      <td>Jurassic World</td>\n",
       "      <td>2015</td>\n",
       "      <td>Chris Pratt|Bryce Dallas Howard|Irrfan Khan|Vi...</td>\n",
       "      <td>Colin Trevorrow</td>\n",
       "      <td>Action|Adventure|Science Fiction|Thriller</td>\n",
       "      <td>32.985763</td>\n",
       "      <td>1.379999e+08</td>\n",
       "      <td>1.392446e+09</td>\n",
       "    </tr>\n",
       "    <tr>\n",
       "      <th>1</th>\n",
       "      <td>76341</td>\n",
       "      <td>Mad Max: Fury Road</td>\n",
       "      <td>2015</td>\n",
       "      <td>Tom Hardy|Charlize Theron|Hugh Keays-Byrne|Nic...</td>\n",
       "      <td>George Miller</td>\n",
       "      <td>Action|Adventure|Science Fiction|Thriller</td>\n",
       "      <td>28.419936</td>\n",
       "      <td>1.379999e+08</td>\n",
       "      <td>3.481613e+08</td>\n",
       "    </tr>\n",
       "    <tr>\n",
       "      <th>2</th>\n",
       "      <td>262500</td>\n",
       "      <td>Insurgent</td>\n",
       "      <td>2015</td>\n",
       "      <td>Shailene Woodley|Theo James|Kate Winslet|Ansel...</td>\n",
       "      <td>Robert Schwentke</td>\n",
       "      <td>Adventure|Science Fiction|Thriller</td>\n",
       "      <td>13.112507</td>\n",
       "      <td>1.012000e+08</td>\n",
       "      <td>2.716190e+08</td>\n",
       "    </tr>\n",
       "    <tr>\n",
       "      <th>3</th>\n",
       "      <td>140607</td>\n",
       "      <td>Star Wars: The Force Awakens</td>\n",
       "      <td>2015</td>\n",
       "      <td>Harrison Ford|Mark Hamill|Carrie Fisher|Adam D...</td>\n",
       "      <td>J.J. Abrams</td>\n",
       "      <td>Action|Adventure|Science Fiction|Fantasy</td>\n",
       "      <td>11.173104</td>\n",
       "      <td>1.839999e+08</td>\n",
       "      <td>1.902723e+09</td>\n",
       "    </tr>\n",
       "    <tr>\n",
       "      <th>4</th>\n",
       "      <td>168259</td>\n",
       "      <td>Furious 7</td>\n",
       "      <td>2015</td>\n",
       "      <td>Vin Diesel|Paul Walker|Jason Statham|Michelle ...</td>\n",
       "      <td>James Wan</td>\n",
       "      <td>Action|Crime|Thriller</td>\n",
       "      <td>9.335014</td>\n",
       "      <td>1.747999e+08</td>\n",
       "      <td>1.385749e+09</td>\n",
       "    </tr>\n",
       "  </tbody>\n",
       "</table>\n",
       "</div>"
      ],
      "text/plain": [
       "       id                original_title  release_year  \\\n",
       "0  135397                Jurassic World          2015   \n",
       "1   76341            Mad Max: Fury Road          2015   \n",
       "2  262500                     Insurgent          2015   \n",
       "3  140607  Star Wars: The Force Awakens          2015   \n",
       "4  168259                     Furious 7          2015   \n",
       "\n",
       "                                                cast          director  \\\n",
       "0  Chris Pratt|Bryce Dallas Howard|Irrfan Khan|Vi...   Colin Trevorrow   \n",
       "1  Tom Hardy|Charlize Theron|Hugh Keays-Byrne|Nic...     George Miller   \n",
       "2  Shailene Woodley|Theo James|Kate Winslet|Ansel...  Robert Schwentke   \n",
       "3  Harrison Ford|Mark Hamill|Carrie Fisher|Adam D...       J.J. Abrams   \n",
       "4  Vin Diesel|Paul Walker|Jason Statham|Michelle ...         James Wan   \n",
       "\n",
       "                                      genres  popularity    budget_adj  \\\n",
       "0  Action|Adventure|Science Fiction|Thriller   32.985763  1.379999e+08   \n",
       "1  Action|Adventure|Science Fiction|Thriller   28.419936  1.379999e+08   \n",
       "2         Adventure|Science Fiction|Thriller   13.112507  1.012000e+08   \n",
       "3   Action|Adventure|Science Fiction|Fantasy   11.173104  1.839999e+08   \n",
       "4                      Action|Crime|Thriller    9.335014  1.747999e+08   \n",
       "\n",
       "    revenue_adj  \n",
       "0  1.392446e+09  \n",
       "1  3.481613e+08  \n",
       "2  2.716190e+08  \n",
       "3  1.902723e+09  \n",
       "4  1.385749e+09  "
      ]
     },
     "metadata": {},
     "output_type": "display_data"
    },
    {
     "name": "stdout",
     "output_type": "stream",
     "text": [
      "\n",
      "total rows: \n"
     ]
    },
    {
     "data": {
      "text/plain": [
       "3849"
      ]
     },
     "execution_count": 45,
     "metadata": {},
     "output_type": "execute_result"
    }
   ],
   "source": [
    "money_row = ['budget_adj', 'revenue_adj']\n",
    "tmdb_df[money_row] = tmdb_df[money_row].replace(0, np.NaN)\n",
    "tmdb_df.dropna(subset = money_row, inplace=True)\n",
    "\n",
    "display(tmdb_df.head())\n",
    "\n",
    "print ('\\ntotal rows: ')\n",
    "len(tmdb_df.index)"
   ]
  },
  {
   "cell_type": "markdown",
   "metadata": {},
   "source": [
    "#### convert budget_adj, revenue_adj, and popularity columns from float to int"
   ]
  },
  {
   "cell_type": "code",
   "execution_count": 46,
   "metadata": {},
   "outputs": [
    {
     "data": {
      "text/plain": [
       "id                 int64\n",
       "original_title    object\n",
       "release_year       int64\n",
       "cast              object\n",
       "director          object\n",
       "genres            object\n",
       "popularity         int64\n",
       "budget_adj         int64\n",
       "revenue_adj        int64\n",
       "dtype: object"
      ]
     },
     "execution_count": 46,
     "metadata": {},
     "output_type": "execute_result"
    }
   ],
   "source": [
    "tmdb_df[['popularity','budget_adj','revenue_adj']] = tmdb_df[['popularity','budget_adj','revenue_adj']].applymap(np.int64)\n",
    "tmdb_df.dtypes"
   ]
  },
  {
   "cell_type": "markdown",
   "metadata": {},
   "source": [
    "<a id='eda'></a>\n",
    "## Exploratory Data Analysis\n"
   ]
  },
  {
   "cell_type": "markdown",
   "metadata": {},
   "source": [
    "#### List of genres with number of movies made"
   ]
  },
  {
   "cell_type": "code",
   "execution_count": 47,
   "metadata": {},
   "outputs": [
    {
     "data": {
      "text/plain": [
       "Drama              1753\n",
       "Comedy             1357\n",
       "Thriller           1203\n",
       "Action             1085\n",
       "Adventure           749\n",
       "Romance             666\n",
       "Crime               651\n",
       "Science Fiction     519\n",
       "Horror              463\n",
       "Family              425\n",
       "Fantasy             396\n",
       "Mystery             344\n",
       "Animation           201\n",
       "Music               134\n",
       "History             129\n",
       "War                 119\n",
       "Western              52\n",
       "Documentary          31\n",
       "Foreign              12\n",
       "TV Movie              1\n",
       "dtype: int64"
      ]
     },
     "metadata": {},
     "output_type": "display_data"
    }
   ],
   "source": [
    "genre_counts = pd.Series(tmdb_df['genres'].str.cat(sep='|').split('|')).value_counts()\n",
    "display(genre_counts)"
   ]
  },
  {
   "cell_type": "markdown",
   "metadata": {},
   "source": [
    "#### Visualize with a plot"
   ]
  },
  {
   "cell_type": "code",
   "execution_count": 61,
   "metadata": {},
   "outputs": [
    {
     "data": {
      "text/plain": [
       "<matplotlib.axes._subplots.AxesSubplot at 0x7f9797d537b8>"
      ]
     },
     "execution_count": 61,
     "metadata": {},
     "output_type": "execute_result"
    },
    {
     "data": {
      "image/png": "[encoded data removed]",
      "text/plain": [
       "<matplotlib.figure.Figure at 0x7f9796d9d828>"
      ]
     },
     "metadata": {},
     "output_type": "display_data"
    }
   ],
   "source": [
    "genre_counts.sort_values(ascending = True, inplace = True)\n",
    "genre_counts.plot(kind='barh', figsize=[15,8])\n"
   ]
  },
  {
   "cell_type": "markdown",
   "metadata": {},
   "source": [
    "### What are the most popular genre from year to year?"
   ]
  },
  {
   "cell_type": "code",
   "execution_count": 62,
   "metadata": {
    "scrolled": true
   },
   "outputs": [
    {
     "data": {
      "text/plain": [
       "release_year  most_popular               \n",
       "1960          Drama                           3.0\n",
       "1961          Drama                           6.0\n",
       "1962          Drama                           5.0\n",
       "1963          Thriller,Drama,History          3.0\n",
       "1964          Drama                           4.0\n",
       "1965          Drama                           3.0\n",
       "1966          Drama,Action,Adventure          2.0\n",
       "1967          Drama                           7.0\n",
       "1968          Drama                           6.0\n",
       "1969          Adventure,Drama,Western         2.0\n",
       "1970          Drama                           7.0\n",
       "1971          Thriller                        8.0\n",
       "1972          Drama,Crime,Thriller,Action     3.0\n",
       "1973          Drama                           7.0\n",
       "1974          Drama                           8.0\n",
       "1975          Drama                           5.0\n",
       "1976          Drama                           7.0\n",
       "1977          Drama                           9.0\n",
       "1978          Drama                           7.0\n",
       "1979          Drama                           7.0\n",
       "1980          Drama                           8.0\n",
       "1981          Comedy,Thriller                 9.0\n",
       "1982          Drama                          12.0\n",
       "1983          Thriller                       13.0\n",
       "1984          Action,Comedy                  16.0\n",
       "1985          Comedy                         19.0\n",
       "1986          Drama                          19.0\n",
       "1987          Comedy                         23.0\n",
       "1988          Comedy                         25.0\n",
       "1989          Comedy                         24.0\n",
       "1990          Drama                          22.0\n",
       "1991          Comedy                         22.0\n",
       "1992          Drama                          27.0\n",
       "1993          Drama                          36.0\n",
       "1994          Comedy                         27.0\n",
       "1995          Drama                          42.0\n",
       "1996          Drama                          47.0\n",
       "1997          Thriller                       40.0\n",
       "1998          Drama                          45.0\n",
       "1999          Comedy                         56.0\n",
       "2000          Drama                          45.0\n",
       "2001          Comedy                         51.0\n",
       "2002          Drama                          63.0\n",
       "2003          Comedy                         45.0\n",
       "2004          Comedy,Drama                   62.0\n",
       "2005          Drama                          82.0\n",
       "2006          Drama                          89.0\n",
       "2007          Drama                          75.0\n",
       "2008          Drama                          80.0\n",
       "2009          Drama                          83.0\n",
       "2010          Drama                          84.0\n",
       "2011          Drama                          89.0\n",
       "2012          Drama                          66.0\n",
       "2013          Drama                          80.0\n",
       "2014          Drama                          79.0\n",
       "2015          Drama                          81.0\n",
       "Name: max_count, dtype: float64"
      ]
     },
     "execution_count": 62,
     "metadata": {},
     "output_type": "execute_result"
    }
   ],
   "source": [
    "def genresByYears(year_group):\n",
    "    genre_dict = {}\n",
    "    \n",
    "    for idx, row in year_group.iterrows():\n",
    "        if pd.notnull(row['genres']):\n",
    "            for g in row['genres'].split('|'):\n",
    "                value = genre_dict.get(g)\n",
    "\n",
    "                if value is None:\n",
    "                    value = 1\n",
    "                else:\n",
    "                    value = value + 1\n",
    "                 \n",
    "                genre_dict[g] = value\n",
    "            \n",
    "    for k, v in genre_dict.items():\n",
    "        value = genre_dict.get(k)\n",
    "        #value = v/total_movies*100\n",
    "        genre_dict[k] = value\n",
    "\n",
    "    genre_df = pd.DataFrame([genre_dict])\n",
    "    max_genre = [k for k, v in genre_dict.items() if v == max(genre_dict.values())] # getting all keys containing the `maximum`\n",
    "    \n",
    "    genre_df['most_popular'] = ','.join(max_genre)\n",
    "    \n",
    "    return genre_df\n",
    "\n",
    "pop_genres_df = pd.DataFrame(columns=['genres'])\n",
    "pop_genres_df = tmdb_df.groupby('release_year').apply(genresByYears)#lambda x: print(x[['genres','release_year']]))#[['director','cast','genres','popularity','revenue_adj']])\n",
    "\n",
    "pop_genres_df['max_count'] = pop_genres_df.max(axis=1)\n",
    "pop_genres_df.reset_index(inplace=True)\n",
    "pop_genres_df.set_index(['release_year','most_popular'], inplace=True)\n",
    "del pop_genres_df['level_1']\n",
    "\n",
    "pop_genres_df.max_count"
   ]
  },
  {
   "cell_type": "code",
   "execution_count": 31,
   "metadata": {},
   "outputs": [
    {
     "data": {
      "text/plain": [
       "<matplotlib.axes._subplots.AxesSubplot at 0x7f9797c48c18>"
      ]
     },
     "execution_count": 31,
     "metadata": {},
     "output_type": "execute_result"
    },
    {
     "data": {
      "image/png": "[encoded data removed]",
      "text/plain": [
       "<matplotlib.figure.Figure at 0x7f97980dd2b0>"
      ]
     },
     "metadata": {},
     "output_type": "display_data"
    }
   ],
   "source": [
    "pop_genres_df[['max_count']].plot(kind='bar', figsize=[15,8])"
   ]
  },
  {
   "cell_type": "markdown",
   "metadata": {},
   "source": [
    "### Research Question 2  Who are the most popular directors?)"
   ]
  },
  {
   "cell_type": "code",
   "execution_count": 32,
   "metadata": {
    "scrolled": true
   },
   "outputs": [
    {
     "data": {
      "text/plain": [
       "Steven Spielberg               28\n",
       "Clint Eastwood                 24\n",
       "Ridley Scott                   21\n",
       "Woody Allen                    18\n",
       "Martin Scorsese                17\n",
       "Robert Rodriguez               17\n",
       "Tim Burton                     17\n",
       "Steven Soderbergh              17\n",
       "Oliver Stone                   15\n",
       "Robert Zemeckis                15\n",
       "Brian De Palma                 15\n",
       "Renny Harlin                   15\n",
       "Joel Schumacher                14\n",
       "Wes Craven                     14\n",
       "Ron Howard                     14\n",
       "Tony Scott                     14\n",
       "Richard Donner                 13\n",
       "Francis Ford Coppola           13\n",
       "Peter Farrelly                 13\n",
       "Barry Levinson                 12\n",
       "Rob Reiner                     12\n",
       "Joel Coen                      12\n",
       "Walter Hill                    12\n",
       "John Carpenter                 12\n",
       "Quentin Tarantino              12\n",
       "Spike Lee                      11\n",
       "Kevin Smith                    11\n",
       "Michael Bay                    11\n",
       "Richard Linklater              11\n",
       "John Landis                    11\n",
       "                               ..\n",
       "Eric Blakeney                   1\n",
       "Matthijs van Heijningen Jr.     1\n",
       "Costa-Gavras                    1\n",
       "Aleksander Bach                 1\n",
       "Daniel Krige                    1\n",
       "David M. Rosenthal              1\n",
       "Leigh Janiak                    1\n",
       "Dania Pasquini                  1\n",
       "Steven Seagal                   1\n",
       "Tom McLoughlin                  1\n",
       "Liev Schreiber                  1\n",
       "Scott Moore                     1\n",
       "Dominique Othenin-Girard        1\n",
       "Will Graham                     1\n",
       "Stephen King                    1\n",
       "Wen Jiang                       1\n",
       "Laurent Baffie                  1\n",
       "Dan Bush                        1\n",
       "Dave Green                      1\n",
       "Jon Kasdan                      1\n",
       "Jake Paltrow                    1\n",
       "Tony Bill                       1\n",
       "Mort Nathan                     1\n",
       "Kevin Tenney                    1\n",
       "Adam Green                      1\n",
       "Anthony Waller                  1\n",
       "Michelangelo Antonioni          1\n",
       "David Von Ancken                1\n",
       "David Hogan                     1\n",
       "Susanne Bier                    1\n",
       "Length: 1784, dtype: int64"
      ]
     },
     "metadata": {},
     "output_type": "display_data"
    }
   ],
   "source": [
    "director_counts = pd.Series(tmdb_df['director'].str.cat(sep='|').split('|')).value_counts()\n",
    "display(director_counts)"
   ]
  },
  {
   "cell_type": "markdown",
   "metadata": {},
   "source": [
    "<a id='conclusions'></a>\n",
    "## Conclusions\n",
    "\n",
    "> **Tip**: Finally, summarize your findings and the results that have been performed. Make sure that you are clear with regards to the limitations of your exploration. If you haven't done any statistical tests, do not imply any statistical conclusions. And make sure you avoid implying causation from correlation!\n",
    "\n",
    "> **Tip**: Once you are satisfied with your work, you should save a copy of the report in HTML or PDF form. Before exporting your report, check over it to make sure that the flow of the report is complete. You should probably remove all of the \"Tip\" quotes like this one so that the presentation is as tidy as possible. It's also a good idea to look over the project rubric, found on the project submission page at the end of the lesson.\n",
    "\n",
    "> To export the report to the workspace, you should run the code cell below. If it worked correctly, you should get a return code of 0, and you should see the generated .html file in the workspace directory (click on the jupyter icon in the upper left). Alternatively, you can download the html report via the **File** > **Download as** submenu and then manually upload it to the workspace directory. Once you've done this, you can submit your project by clicking on the \"Submit Project\" button in the lower right. Congratulations!\n",
    "\n",
    "Overall, the most popular genres made between 1960 - 2015 is drama, followed by comedy, thriller, and action.\n",
    "Drama has been dominating for 11 years straight over the past years from 2004 - 2015.\n"
   ]
  },
  {
   "cell_type": "code",
   "execution_count": 33,
   "metadata": {},
   "outputs": [
    {
     "data": {
      "text/plain": [
       "0"
      ]
     },
     "execution_count": 33,
     "metadata": {},
     "output_type": "execute_result"
    }
   ],
   "source": [
    "from subprocess import call\n",
    "call(['python', '-m', 'nbconvert', 'Investigate_a_Dataset.ipynb'])"
   ]
  },
  {
   "cell_type": "code",
   "execution_count": null,
   "metadata": {},
   "outputs": [],
   "source": []
  }
 ],
 "metadata": {
  "kernelspec": {
   "display_name": "Python 3",
   "language": "python",
   "name": "python3"
  },
  "language_info": {
   "codemirror_mode": {
    "name": "ipython",
    "version": 3
   },
   "file_extension": ".py",
   "mimetype": "text/x-python",
   "name": "python",
   "nbconvert_exporter": "python",
   "pygments_lexer": "ipython3",
   "version": "3.6.3"
  }
 },
 "nbformat": 4,
 "nbformat_minor": 2
}
